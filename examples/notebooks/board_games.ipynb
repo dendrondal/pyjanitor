{
 "cells": [
  {
   "cell_type": "markdown",
   "metadata": {},
   "source": [
    "# Processing Board Game Data"
   ]
  },
  {
   "cell_type": "markdown",
   "metadata": {},
   "source": [
    "## Background\n",
    "\n",
    "This dataset comes from the [Board Game Geek database](http://boardgamegeek.com/). The site's database has more than 90,000 games, with crowd-sourced ratings. This particular subset is limited to only games with at least 50 ratings which were published between 1950 and 2016. This still leaves us with 10,532 games! For more information please check out the [tidytuesday repo](https://github.com/rfordatascience/tidytuesday/tree/master/data/2019/2019-03-12) which is where this example was taken from.\n",
    "\n"
   ]
  },
  {
   "cell_type": "markdown",
   "metadata": {},
   "source": [
    "## Data Cleaning"
   ]
  },
  {
   "cell_type": "code",
   "execution_count": 9,
   "metadata": {},
   "outputs": [],
   "source": [
    "import pandas as pd\n",
    "import janitor\n",
    "import os"
   ]
  },
  {
   "cell_type": "markdown",
   "metadata": {},
   "source": [
    "### One-Shot\n",
    "This cell demonstrates the cleaning process using the call chaining approach championed in pyjanitor"
   ]
  },
  {
   "cell_type": "code",
   "execution_count": 35,
   "metadata": {},
   "outputs": [],
   "source": [
    "cleaned_df = (\n",
    "    pd.read_csv(\"/home/jack/Downloads/board_games.csv\") # ingest raw data\n",
    "    .clean_names() # removes whitespace, punctuation/symbols, capitalization\n",
    "    .remove_empty() # removes entirely empty rows / columns\n",
    "    .drop(columns = [\"image\",\"thumbnail\",\"compilation\",\"game_id\"]) # drops unnecessary columns\n",
    ")"
   ]
  },
  {
   "cell_type": "markdown",
   "metadata": {},
   "source": [
    "## Multi-Step\n",
    "These cells repeat the process in a step-by-step manner in order to explain it in more detail"
   ]
  },
  {
   "cell_type": "code",
   "execution_count": 36,
   "metadata": {},
   "outputs": [],
   "source": [
    "# read in the csv\n",
    "df = pd.read_csv(\"/home/jack/Downloads/board_games.csv\")"
   ]
  },
  {
   "cell_type": "code",
   "execution_count": 18,
   "metadata": {},
   "outputs": [],
   "source": [
    "# removing whitespace, punctuation / symbols, capitalization\n",
    "df = df.clean_names() "
   ]
  },
  {
   "cell_type": "code",
   "execution_count": 20,
   "metadata": {},
   "outputs": [],
   "source": [
    "# removes entirely empty rows / columns\n",
    "df = df.remove_empty()"
   ]
  },
  {
   "cell_type": "code",
   "execution_count": 69,
   "metadata": {},
   "outputs": [
    {
     "data": {
      "text/plain": [
       "1565"
      ]
     },
     "execution_count": 69,
     "metadata": {},
     "output_type": "execute_result"
    }
   ],
   "source": [
    "# check to see if \"min_playtime\" and \"max_playtime\" columns are redundant\n",
    "len(df[df[\"min_playtime\"] != df[\"max_playtime\"]])"
   ]
  },
  {
   "cell_type": "code",
   "execution_count": 34,
   "metadata": {},
   "outputs": [
    {
     "data": {
      "text/plain": [
       "0.03892897835169009"
      ]
     },
     "execution_count": 34,
     "metadata": {},
     "output_type": "execute_result"
    }
   ],
   "source": [
    "# check to see what percentage of the values in the \"compilation\" column are not null\n",
    "len(df[df['compilation'].notnull()])/len(df)"
   ]
  },
  {
   "cell_type": "code",
   "execution_count": null,
   "metadata": {},
   "outputs": [],
   "source": [
    "# the 'compilation' column was demonstrated to have little value, \n",
    "# the \"image\" and \"thumbnail\" columns link to images and are not a factor in this analysis\n",
    "# \"game_id\" can be replaced by using the index\n",
    "df = df.drop(columns = [\"image\",\"thumbnail\",\"compilation\",\"game_id\"]) #"
   ]
  },
  {
   "cell_type": "markdown",
   "metadata": {},
   "source": [
    "## Sample Analysis"
   ]
  },
  {
   "cell_type": "code",
   "execution_count": 80,
   "metadata": {},
   "outputs": [
    {
     "data": {
      "text/plain": [
       "[('Card Game', 2980),\n",
       " ('Wargame', 2033),\n",
       " ('Fantasy', 1217),\n",
       " ('Fighting', 899),\n",
       " ('Economic', 877),\n",
       " ('Science Fiction', 849),\n",
       " ('Dice', 837),\n",
       " ('Party Game', 832),\n",
       " ('Abstract Strategy', 709),\n",
       " (\"Children's Game\", 703)]"
      ]
     },
     "execution_count": 80,
     "metadata": {},
     "output_type": "execute_result"
    }
   ],
   "source": [
    "# gives us the top ten game categories that show up in the \"category\" column\n",
    "import operator\n",
    "\n",
    "dic = {}\n",
    "for i in df['category'][:]:\n",
    "    li = i.split(',')\n",
    "    for x in li:\n",
    "        if x not in dic:\n",
    "            dic[x] = 0\n",
    "        else:\n",
    "            dic[x]+=1\n",
    "\n",
    "sorted_dic = sorted(dic.items(), key=operator.itemgetter(1))\n",
    "sorted_dic.reverse()\n",
    "sorted_dic[:10]"
   ]
  },
  {
   "cell_type": "code",
   "execution_count": null,
   "metadata": {},
   "outputs": [],
   "source": []
  }
 ],
 "metadata": {
  "kernelspec": {
   "display_name": "Python 3",
   "language": "python",
   "name": "python3"
  },
  "language_info": {
   "codemirror_mode": {
    "name": "ipython",
    "version": 3
   },
   "file_extension": ".py",
   "mimetype": "text/x-python",
   "name": "python",
   "nbconvert_exporter": "python",
   "pygments_lexer": "ipython3",
   "version": "3.7.3"
  }
 },
 "nbformat": 4,
 "nbformat_minor": 2
}
